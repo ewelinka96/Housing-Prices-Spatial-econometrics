{
 "cells": [
  {
   "cell_type": "code",
   "execution_count": 1,
   "metadata": {},
   "outputs": [],
   "source": [
    "import requests\n",
    "import pandas as pd\n",
    "from lxml import html\n",
    "import unicodedata\n",
    "import time"
   ]
  },
  {
   "cell_type": "code",
   "execution_count": 110,
   "metadata": {},
   "outputs": [
    {
     "name": "stderr",
     "output_type": "stream",
     "text": [
      "D:\\Users\\grzeg\\Anaconda3\\lib\\site-packages\\urllib3\\connectionpool.py:847: InsecureRequestWarning: Unverified HTTPS request is being made. Adding certificate verification is strongly advised. See: https://urllib3.readthedocs.io/en/latest/advanced-usage.html#ssl-warnings\n",
      "  InsecureRequestWarning)\n"
     ]
    }
   ],
   "source": [
    "page = requests.get(\"https://zielona.um.warszawa.pl/tereny-zielone/parki/ogrod-krasinskich\", verify = False)\n",
    "tree = html.fromstring(page.content)\n",
    "parki = tree.xpath('//a[contains(@href, \"tereny-zielone/parki\")]')"
   ]
  },
  {
   "cell_type": "code",
   "execution_count": 126,
   "metadata": {},
   "outputs": [
    {
     "name": "stdout",
     "output_type": "stream",
     "text": [
      "Pokaż\n"
     ]
    }
   ],
   "source": [
    "parki_full = []\n",
    "for park in parki:\n",
    "    try:\n",
    "        results = (park.attrib['title'], \"https://zielona.um.warszawa.pl\" + park.attrib['href'])\n",
    "        parki_full.append(results)\n",
    "    except:\n",
    "        print(park.text)"
   ]
  },
  {
   "cell_type": "code",
   "execution_count": 156,
   "metadata": {},
   "outputs": [],
   "source": [
    "df = pd.DataFrame(parki_full, columns = [\"Nazwa\", \"Link\"])\n",
    "# df.to_excel(\"parki.xlsx\")"
   ]
  },
  {
   "cell_type": "code",
   "execution_count": 152,
   "metadata": {},
   "outputs": [],
   "source": [
    "results = []\n",
    "def get_park_info(link, results):\n",
    "    \n",
    "#     park = unicodedata.normalize(\"NFKD\", park).encode('ascii', 'ignore')\n",
    "#     park = park.decode(\"ascii\")\n",
    "#     park = park.replace(\" \", \"-\")\n",
    "#     park = park.replace('\"', '')\n",
    "#     park = park.replace(\".\", \"\")\n",
    "#     park = park.lower()\n",
    "    \n",
    "    \n",
    "    request = link\n",
    "#     print(request)\n",
    "    \n",
    "    page = requests.get(request, verify = False)\n",
    "    tree = html.fromstring(page.content)\n",
    "    \n",
    "    try:\n",
    "        area = tree.xpath(\"//p[contains(text(),' ha')]\")\n",
    "        area = area[0].text\n",
    "\n",
    "        dzielnica = tree.xpath(\"//p[contains(text(),'Dzielnica')]\")\n",
    "        dzielnica = dzielnica[0].text\n",
    "        \n",
    "    except:\n",
    "        area = None\n",
    "        dzielnica = None\n",
    "    \n",
    "    time.sleep(1)\n",
    "    \n",
    "    results.append((dzielnica, area))\n",
    "    return ((dzielnica, area))"
   ]
  },
  {
   "cell_type": "code",
   "execution_count": 153,
   "metadata": {
    "scrolled": true
   },
   "outputs": [
    {
     "name": "stderr",
     "output_type": "stream",
     "text": [
      "D:\\Users\\grzeg\\Anaconda3\\lib\\site-packages\\urllib3\\connectionpool.py:847: InsecureRequestWarning: Unverified HTTPS request is being made. Adding certificate verification is strongly advised. See: https://urllib3.readthedocs.io/en/latest/advanced-usage.html#ssl-warnings\n",
      "  InsecureRequestWarning)\n",
      "D:\\Users\\grzeg\\Anaconda3\\lib\\site-packages\\urllib3\\connectionpool.py:847: InsecureRequestWarning: Unverified HTTPS request is being made. Adding certificate verification is strongly advised. See: https://urllib3.readthedocs.io/en/latest/advanced-usage.html#ssl-warnings\n",
      "  InsecureRequestWarning)\n",
      "D:\\Users\\grzeg\\Anaconda3\\lib\\site-packages\\urllib3\\connectionpool.py:847: InsecureRequestWarning: Unverified HTTPS request is being made. Adding certificate verification is strongly advised. See: https://urllib3.readthedocs.io/en/latest/advanced-usage.html#ssl-warnings\n",
      "  InsecureRequestWarning)\n",
      "D:\\Users\\grzeg\\Anaconda3\\lib\\site-packages\\urllib3\\connectionpool.py:847: InsecureRequestWarning: Unverified HTTPS request is being made. Adding certificate verification is strongly advised. See: https://urllib3.readthedocs.io/en/latest/advanced-usage.html#ssl-warnings\n",
      "  InsecureRequestWarning)\n",
      "D:\\Users\\grzeg\\Anaconda3\\lib\\site-packages\\urllib3\\connectionpool.py:847: InsecureRequestWarning: Unverified HTTPS request is being made. Adding certificate verification is strongly advised. See: https://urllib3.readthedocs.io/en/latest/advanced-usage.html#ssl-warnings\n",
      "  InsecureRequestWarning)\n",
      "D:\\Users\\grzeg\\Anaconda3\\lib\\site-packages\\urllib3\\connectionpool.py:847: InsecureRequestWarning: Unverified HTTPS request is being made. Adding certificate verification is strongly advised. See: https://urllib3.readthedocs.io/en/latest/advanced-usage.html#ssl-warnings\n",
      "  InsecureRequestWarning)\n",
      "D:\\Users\\grzeg\\Anaconda3\\lib\\site-packages\\urllib3\\connectionpool.py:847: InsecureRequestWarning: Unverified HTTPS request is being made. Adding certificate verification is strongly advised. See: https://urllib3.readthedocs.io/en/latest/advanced-usage.html#ssl-warnings\n",
      "  InsecureRequestWarning)\n",
      "D:\\Users\\grzeg\\Anaconda3\\lib\\site-packages\\urllib3\\connectionpool.py:847: InsecureRequestWarning: Unverified HTTPS request is being made. Adding certificate verification is strongly advised. See: https://urllib3.readthedocs.io/en/latest/advanced-usage.html#ssl-warnings\n",
      "  InsecureRequestWarning)\n",
      "D:\\Users\\grzeg\\Anaconda3\\lib\\site-packages\\urllib3\\connectionpool.py:847: InsecureRequestWarning: Unverified HTTPS request is being made. Adding certificate verification is strongly advised. See: https://urllib3.readthedocs.io/en/latest/advanced-usage.html#ssl-warnings\n",
      "  InsecureRequestWarning)\n",
      "D:\\Users\\grzeg\\Anaconda3\\lib\\site-packages\\urllib3\\connectionpool.py:847: InsecureRequestWarning: Unverified HTTPS request is being made. Adding certificate verification is strongly advised. See: https://urllib3.readthedocs.io/en/latest/advanced-usage.html#ssl-warnings\n",
      "  InsecureRequestWarning)\n",
      "D:\\Users\\grzeg\\Anaconda3\\lib\\site-packages\\urllib3\\connectionpool.py:847: InsecureRequestWarning: Unverified HTTPS request is being made. Adding certificate verification is strongly advised. See: https://urllib3.readthedocs.io/en/latest/advanced-usage.html#ssl-warnings\n",
      "  InsecureRequestWarning)\n",
      "D:\\Users\\grzeg\\Anaconda3\\lib\\site-packages\\urllib3\\connectionpool.py:847: InsecureRequestWarning: Unverified HTTPS request is being made. Adding certificate verification is strongly advised. See: https://urllib3.readthedocs.io/en/latest/advanced-usage.html#ssl-warnings\n",
      "  InsecureRequestWarning)\n",
      "D:\\Users\\grzeg\\Anaconda3\\lib\\site-packages\\urllib3\\connectionpool.py:847: InsecureRequestWarning: Unverified HTTPS request is being made. Adding certificate verification is strongly advised. See: https://urllib3.readthedocs.io/en/latest/advanced-usage.html#ssl-warnings\n",
      "  InsecureRequestWarning)\n",
      "D:\\Users\\grzeg\\Anaconda3\\lib\\site-packages\\urllib3\\connectionpool.py:847: InsecureRequestWarning: Unverified HTTPS request is being made. Adding certificate verification is strongly advised. See: https://urllib3.readthedocs.io/en/latest/advanced-usage.html#ssl-warnings\n",
      "  InsecureRequestWarning)\n",
      "D:\\Users\\grzeg\\Anaconda3\\lib\\site-packages\\urllib3\\connectionpool.py:847: InsecureRequestWarning: Unverified HTTPS request is being made. Adding certificate verification is strongly advised. See: https://urllib3.readthedocs.io/en/latest/advanced-usage.html#ssl-warnings\n",
      "  InsecureRequestWarning)\n",
      "D:\\Users\\grzeg\\Anaconda3\\lib\\site-packages\\urllib3\\connectionpool.py:847: InsecureRequestWarning: Unverified HTTPS request is being made. Adding certificate verification is strongly advised. See: https://urllib3.readthedocs.io/en/latest/advanced-usage.html#ssl-warnings\n",
      "  InsecureRequestWarning)\n",
      "D:\\Users\\grzeg\\Anaconda3\\lib\\site-packages\\urllib3\\connectionpool.py:847: InsecureRequestWarning: Unverified HTTPS request is being made. Adding certificate verification is strongly advised. See: https://urllib3.readthedocs.io/en/latest/advanced-usage.html#ssl-warnings\n",
      "  InsecureRequestWarning)\n",
      "D:\\Users\\grzeg\\Anaconda3\\lib\\site-packages\\urllib3\\connectionpool.py:847: InsecureRequestWarning: Unverified HTTPS request is being made. Adding certificate verification is strongly advised. See: https://urllib3.readthedocs.io/en/latest/advanced-usage.html#ssl-warnings\n",
      "  InsecureRequestWarning)\n",
      "D:\\Users\\grzeg\\Anaconda3\\lib\\site-packages\\urllib3\\connectionpool.py:847: InsecureRequestWarning: Unverified HTTPS request is being made. Adding certificate verification is strongly advised. See: https://urllib3.readthedocs.io/en/latest/advanced-usage.html#ssl-warnings\n",
      "  InsecureRequestWarning)\n",
      "D:\\Users\\grzeg\\Anaconda3\\lib\\site-packages\\urllib3\\connectionpool.py:847: InsecureRequestWarning: Unverified HTTPS request is being made. Adding certificate verification is strongly advised. See: https://urllib3.readthedocs.io/en/latest/advanced-usage.html#ssl-warnings\n",
      "  InsecureRequestWarning)\n",
      "D:\\Users\\grzeg\\Anaconda3\\lib\\site-packages\\urllib3\\connectionpool.py:847: InsecureRequestWarning: Unverified HTTPS request is being made. Adding certificate verification is strongly advised. See: https://urllib3.readthedocs.io/en/latest/advanced-usage.html#ssl-warnings\n",
      "  InsecureRequestWarning)\n",
      "D:\\Users\\grzeg\\Anaconda3\\lib\\site-packages\\urllib3\\connectionpool.py:847: InsecureRequestWarning: Unverified HTTPS request is being made. Adding certificate verification is strongly advised. See: https://urllib3.readthedocs.io/en/latest/advanced-usage.html#ssl-warnings\n",
      "  InsecureRequestWarning)\n",
      "D:\\Users\\grzeg\\Anaconda3\\lib\\site-packages\\urllib3\\connectionpool.py:847: InsecureRequestWarning: Unverified HTTPS request is being made. Adding certificate verification is strongly advised. See: https://urllib3.readthedocs.io/en/latest/advanced-usage.html#ssl-warnings\n",
      "  InsecureRequestWarning)\n",
      "D:\\Users\\grzeg\\Anaconda3\\lib\\site-packages\\urllib3\\connectionpool.py:847: InsecureRequestWarning: Unverified HTTPS request is being made. Adding certificate verification is strongly advised. See: https://urllib3.readthedocs.io/en/latest/advanced-usage.html#ssl-warnings\n",
      "  InsecureRequestWarning)\n",
      "D:\\Users\\grzeg\\Anaconda3\\lib\\site-packages\\urllib3\\connectionpool.py:847: InsecureRequestWarning: Unverified HTTPS request is being made. Adding certificate verification is strongly advised. See: https://urllib3.readthedocs.io/en/latest/advanced-usage.html#ssl-warnings\n",
      "  InsecureRequestWarning)\n",
      "D:\\Users\\grzeg\\Anaconda3\\lib\\site-packages\\urllib3\\connectionpool.py:847: InsecureRequestWarning: Unverified HTTPS request is being made. Adding certificate verification is strongly advised. See: https://urllib3.readthedocs.io/en/latest/advanced-usage.html#ssl-warnings\n",
      "  InsecureRequestWarning)\n",
      "D:\\Users\\grzeg\\Anaconda3\\lib\\site-packages\\urllib3\\connectionpool.py:847: InsecureRequestWarning: Unverified HTTPS request is being made. Adding certificate verification is strongly advised. See: https://urllib3.readthedocs.io/en/latest/advanced-usage.html#ssl-warnings\n",
      "  InsecureRequestWarning)\n",
      "D:\\Users\\grzeg\\Anaconda3\\lib\\site-packages\\urllib3\\connectionpool.py:847: InsecureRequestWarning: Unverified HTTPS request is being made. Adding certificate verification is strongly advised. See: https://urllib3.readthedocs.io/en/latest/advanced-usage.html#ssl-warnings\n",
      "  InsecureRequestWarning)\n"
     ]
    },
    {
     "name": "stderr",
     "output_type": "stream",
     "text": [
      "D:\\Users\\grzeg\\Anaconda3\\lib\\site-packages\\urllib3\\connectionpool.py:847: InsecureRequestWarning: Unverified HTTPS request is being made. Adding certificate verification is strongly advised. See: https://urllib3.readthedocs.io/en/latest/advanced-usage.html#ssl-warnings\n",
      "  InsecureRequestWarning)\n",
      "D:\\Users\\grzeg\\Anaconda3\\lib\\site-packages\\urllib3\\connectionpool.py:847: InsecureRequestWarning: Unverified HTTPS request is being made. Adding certificate verification is strongly advised. See: https://urllib3.readthedocs.io/en/latest/advanced-usage.html#ssl-warnings\n",
      "  InsecureRequestWarning)\n",
      "D:\\Users\\grzeg\\Anaconda3\\lib\\site-packages\\urllib3\\connectionpool.py:847: InsecureRequestWarning: Unverified HTTPS request is being made. Adding certificate verification is strongly advised. See: https://urllib3.readthedocs.io/en/latest/advanced-usage.html#ssl-warnings\n",
      "  InsecureRequestWarning)\n",
      "D:\\Users\\grzeg\\Anaconda3\\lib\\site-packages\\urllib3\\connectionpool.py:847: InsecureRequestWarning: Unverified HTTPS request is being made. Adding certificate verification is strongly advised. See: https://urllib3.readthedocs.io/en/latest/advanced-usage.html#ssl-warnings\n",
      "  InsecureRequestWarning)\n",
      "D:\\Users\\grzeg\\Anaconda3\\lib\\site-packages\\urllib3\\connectionpool.py:847: InsecureRequestWarning: Unverified HTTPS request is being made. Adding certificate verification is strongly advised. See: https://urllib3.readthedocs.io/en/latest/advanced-usage.html#ssl-warnings\n",
      "  InsecureRequestWarning)\n",
      "D:\\Users\\grzeg\\Anaconda3\\lib\\site-packages\\urllib3\\connectionpool.py:847: InsecureRequestWarning: Unverified HTTPS request is being made. Adding certificate verification is strongly advised. See: https://urllib3.readthedocs.io/en/latest/advanced-usage.html#ssl-warnings\n",
      "  InsecureRequestWarning)\n",
      "D:\\Users\\grzeg\\Anaconda3\\lib\\site-packages\\urllib3\\connectionpool.py:847: InsecureRequestWarning: Unverified HTTPS request is being made. Adding certificate verification is strongly advised. See: https://urllib3.readthedocs.io/en/latest/advanced-usage.html#ssl-warnings\n",
      "  InsecureRequestWarning)\n",
      "D:\\Users\\grzeg\\Anaconda3\\lib\\site-packages\\urllib3\\connectionpool.py:847: InsecureRequestWarning: Unverified HTTPS request is being made. Adding certificate verification is strongly advised. See: https://urllib3.readthedocs.io/en/latest/advanced-usage.html#ssl-warnings\n",
      "  InsecureRequestWarning)\n",
      "D:\\Users\\grzeg\\Anaconda3\\lib\\site-packages\\urllib3\\connectionpool.py:847: InsecureRequestWarning: Unverified HTTPS request is being made. Adding certificate verification is strongly advised. See: https://urllib3.readthedocs.io/en/latest/advanced-usage.html#ssl-warnings\n",
      "  InsecureRequestWarning)\n",
      "D:\\Users\\grzeg\\Anaconda3\\lib\\site-packages\\urllib3\\connectionpool.py:847: InsecureRequestWarning: Unverified HTTPS request is being made. Adding certificate verification is strongly advised. See: https://urllib3.readthedocs.io/en/latest/advanced-usage.html#ssl-warnings\n",
      "  InsecureRequestWarning)\n",
      "D:\\Users\\grzeg\\Anaconda3\\lib\\site-packages\\urllib3\\connectionpool.py:847: InsecureRequestWarning: Unverified HTTPS request is being made. Adding certificate verification is strongly advised. See: https://urllib3.readthedocs.io/en/latest/advanced-usage.html#ssl-warnings\n",
      "  InsecureRequestWarning)\n",
      "D:\\Users\\grzeg\\Anaconda3\\lib\\site-packages\\urllib3\\connectionpool.py:847: InsecureRequestWarning: Unverified HTTPS request is being made. Adding certificate verification is strongly advised. See: https://urllib3.readthedocs.io/en/latest/advanced-usage.html#ssl-warnings\n",
      "  InsecureRequestWarning)\n",
      "D:\\Users\\grzeg\\Anaconda3\\lib\\site-packages\\urllib3\\connectionpool.py:847: InsecureRequestWarning: Unverified HTTPS request is being made. Adding certificate verification is strongly advised. See: https://urllib3.readthedocs.io/en/latest/advanced-usage.html#ssl-warnings\n",
      "  InsecureRequestWarning)\n",
      "D:\\Users\\grzeg\\Anaconda3\\lib\\site-packages\\urllib3\\connectionpool.py:847: InsecureRequestWarning: Unverified HTTPS request is being made. Adding certificate verification is strongly advised. See: https://urllib3.readthedocs.io/en/latest/advanced-usage.html#ssl-warnings\n",
      "  InsecureRequestWarning)\n",
      "D:\\Users\\grzeg\\Anaconda3\\lib\\site-packages\\urllib3\\connectionpool.py:847: InsecureRequestWarning: Unverified HTTPS request is being made. Adding certificate verification is strongly advised. See: https://urllib3.readthedocs.io/en/latest/advanced-usage.html#ssl-warnings\n",
      "  InsecureRequestWarning)\n",
      "D:\\Users\\grzeg\\Anaconda3\\lib\\site-packages\\urllib3\\connectionpool.py:847: InsecureRequestWarning: Unverified HTTPS request is being made. Adding certificate verification is strongly advised. See: https://urllib3.readthedocs.io/en/latest/advanced-usage.html#ssl-warnings\n",
      "  InsecureRequestWarning)\n",
      "D:\\Users\\grzeg\\Anaconda3\\lib\\site-packages\\urllib3\\connectionpool.py:847: InsecureRequestWarning: Unverified HTTPS request is being made. Adding certificate verification is strongly advised. See: https://urllib3.readthedocs.io/en/latest/advanced-usage.html#ssl-warnings\n",
      "  InsecureRequestWarning)\n",
      "D:\\Users\\grzeg\\Anaconda3\\lib\\site-packages\\urllib3\\connectionpool.py:847: InsecureRequestWarning: Unverified HTTPS request is being made. Adding certificate verification is strongly advised. See: https://urllib3.readthedocs.io/en/latest/advanced-usage.html#ssl-warnings\n",
      "  InsecureRequestWarning)\n",
      "D:\\Users\\grzeg\\Anaconda3\\lib\\site-packages\\urllib3\\connectionpool.py:847: InsecureRequestWarning: Unverified HTTPS request is being made. Adding certificate verification is strongly advised. See: https://urllib3.readthedocs.io/en/latest/advanced-usage.html#ssl-warnings\n",
      "  InsecureRequestWarning)\n",
      "D:\\Users\\grzeg\\Anaconda3\\lib\\site-packages\\urllib3\\connectionpool.py:847: InsecureRequestWarning: Unverified HTTPS request is being made. Adding certificate verification is strongly advised. See: https://urllib3.readthedocs.io/en/latest/advanced-usage.html#ssl-warnings\n",
      "  InsecureRequestWarning)\n",
      "D:\\Users\\grzeg\\Anaconda3\\lib\\site-packages\\urllib3\\connectionpool.py:847: InsecureRequestWarning: Unverified HTTPS request is being made. Adding certificate verification is strongly advised. See: https://urllib3.readthedocs.io/en/latest/advanced-usage.html#ssl-warnings\n",
      "  InsecureRequestWarning)\n",
      "D:\\Users\\grzeg\\Anaconda3\\lib\\site-packages\\urllib3\\connectionpool.py:847: InsecureRequestWarning: Unverified HTTPS request is being made. Adding certificate verification is strongly advised. See: https://urllib3.readthedocs.io/en/latest/advanced-usage.html#ssl-warnings\n",
      "  InsecureRequestWarning)\n",
      "D:\\Users\\grzeg\\Anaconda3\\lib\\site-packages\\urllib3\\connectionpool.py:847: InsecureRequestWarning: Unverified HTTPS request is being made. Adding certificate verification is strongly advised. See: https://urllib3.readthedocs.io/en/latest/advanced-usage.html#ssl-warnings\n",
      "  InsecureRequestWarning)\n",
      "D:\\Users\\grzeg\\Anaconda3\\lib\\site-packages\\urllib3\\connectionpool.py:847: InsecureRequestWarning: Unverified HTTPS request is being made. Adding certificate verification is strongly advised. See: https://urllib3.readthedocs.io/en/latest/advanced-usage.html#ssl-warnings\n",
      "  InsecureRequestWarning)\n",
      "D:\\Users\\grzeg\\Anaconda3\\lib\\site-packages\\urllib3\\connectionpool.py:847: InsecureRequestWarning: Unverified HTTPS request is being made. Adding certificate verification is strongly advised. See: https://urllib3.readthedocs.io/en/latest/advanced-usage.html#ssl-warnings\n",
      "  InsecureRequestWarning)\n",
      "D:\\Users\\grzeg\\Anaconda3\\lib\\site-packages\\urllib3\\connectionpool.py:847: InsecureRequestWarning: Unverified HTTPS request is being made. Adding certificate verification is strongly advised. See: https://urllib3.readthedocs.io/en/latest/advanced-usage.html#ssl-warnings\n",
      "  InsecureRequestWarning)\n",
      "D:\\Users\\grzeg\\Anaconda3\\lib\\site-packages\\urllib3\\connectionpool.py:847: InsecureRequestWarning: Unverified HTTPS request is being made. Adding certificate verification is strongly advised. See: https://urllib3.readthedocs.io/en/latest/advanced-usage.html#ssl-warnings\n",
      "  InsecureRequestWarning)\n",
      "D:\\Users\\grzeg\\Anaconda3\\lib\\site-packages\\urllib3\\connectionpool.py:847: InsecureRequestWarning: Unverified HTTPS request is being made. Adding certificate verification is strongly advised. See: https://urllib3.readthedocs.io/en/latest/advanced-usage.html#ssl-warnings\n",
      "  InsecureRequestWarning)\n"
     ]
    },
    {
     "name": "stderr",
     "output_type": "stream",
     "text": [
      "D:\\Users\\grzeg\\Anaconda3\\lib\\site-packages\\urllib3\\connectionpool.py:847: InsecureRequestWarning: Unverified HTTPS request is being made. Adding certificate verification is strongly advised. See: https://urllib3.readthedocs.io/en/latest/advanced-usage.html#ssl-warnings\n",
      "  InsecureRequestWarning)\n",
      "D:\\Users\\grzeg\\Anaconda3\\lib\\site-packages\\urllib3\\connectionpool.py:847: InsecureRequestWarning: Unverified HTTPS request is being made. Adding certificate verification is strongly advised. See: https://urllib3.readthedocs.io/en/latest/advanced-usage.html#ssl-warnings\n",
      "  InsecureRequestWarning)\n",
      "D:\\Users\\grzeg\\Anaconda3\\lib\\site-packages\\urllib3\\connectionpool.py:847: InsecureRequestWarning: Unverified HTTPS request is being made. Adding certificate verification is strongly advised. See: https://urllib3.readthedocs.io/en/latest/advanced-usage.html#ssl-warnings\n",
      "  InsecureRequestWarning)\n",
      "D:\\Users\\grzeg\\Anaconda3\\lib\\site-packages\\urllib3\\connectionpool.py:847: InsecureRequestWarning: Unverified HTTPS request is being made. Adding certificate verification is strongly advised. See: https://urllib3.readthedocs.io/en/latest/advanced-usage.html#ssl-warnings\n",
      "  InsecureRequestWarning)\n",
      "D:\\Users\\grzeg\\Anaconda3\\lib\\site-packages\\urllib3\\connectionpool.py:847: InsecureRequestWarning: Unverified HTTPS request is being made. Adding certificate verification is strongly advised. See: https://urllib3.readthedocs.io/en/latest/advanced-usage.html#ssl-warnings\n",
      "  InsecureRequestWarning)\n",
      "D:\\Users\\grzeg\\Anaconda3\\lib\\site-packages\\urllib3\\connectionpool.py:847: InsecureRequestWarning: Unverified HTTPS request is being made. Adding certificate verification is strongly advised. See: https://urllib3.readthedocs.io/en/latest/advanced-usage.html#ssl-warnings\n",
      "  InsecureRequestWarning)\n"
     ]
    },
    {
     "data": {
      "text/plain": [
       "0     (Dzielnica Śródmieście, w rejonie Placu Krasiń...\n",
       "1     (Dzielnica Śródmieście, w obrębie ulic Królews...\n",
       "2       (Dzielnica Ursus, ul. Walerego Sławka, 1,79 ha)\n",
       "3     (Dzielnica Śródmieście, ograniczony ulicą Agry...\n",
       "4     (Dzielnica Mokotów, pomiędzy ulicami Puławską,...\n",
       "5     (Dzielnica Mokotów, w obrębie ulicy Jaźwingów ...\n",
       "6     (Dzielnica Targówek, pomiędzy ulicami Kondrato...\n",
       "7                  (Dzielnica Ursus, ul. Spisaka, 4 ha)\n",
       "8     (Dzielnica Śródmieście w rejonie ulicy Kruczko...\n",
       "9     (Dzielnica Mokotów, ograniczony Doliną Służewi...\n",
       "10    (Dzielnica Mokotów, w obrębie ul. Puławskiej, ...\n",
       "11    (Dzielnica Ochota, ograniczony ulicami Korotyń...\n",
       "12    (Dzielnica Żoliborz, obrębie ulic: Wybrzeże Gd...\n",
       "13    (Dzielnica Bemowo, miedzy ulicą Lazurową, Czum...\n",
       "14    (Dzielnica Białołęka, w obrębie ulicy Modlińsk...\n",
       "15    (Dzielnica Ursynów , w rejonie ulic Romera i M...\n",
       "16    (Dzielnica Żoliborz, pomiędzy ulicami: Słowack...\n",
       "17    (Dzielnica Śródmieście, w obrębie ulic Karowej...\n",
       "18    (Dzielnica Bielany, w obrębie ulicy Gwiaździst...\n",
       "19       (Dzielnica Włochy, ul. Chrościckiego, 5,06 ha)\n",
       "20    (Dzielnica Ursynów w rejonie ul. Belgradzkiej,...\n",
       "21    (Dzielnica Bielany, ograniczony ulicami Wybrze...\n",
       "22    (Dzielnica Ochota, ograniczony ulicami: Wiślic...\n",
       "23    (Dzielnica Śródmieście, w rejonie ulic Czernia...\n",
       "24    (Dzielnica Mokotów, w pobliżu ulicy Żwirki i W...\n",
       "25    (Dzielnica Śródmieście, w rejonie ulicy Marsza...\n",
       "26    (Dzielnica Wola, w rejonie ulicy Górczewskiej,...\n",
       "27    (Dzielnica Mokotów, pomiędzy ulicami: Puławską...\n",
       "28    (Dzielnica Praga Południe, w rejonie ulicy Gen...\n",
       "29    (Dzielnica Praga Południe, ograniczony ulicami...\n",
       "                            ...                        \n",
       "32    (Dzielnica Bielany, położony w obrębie ulic Ma...\n",
       "33    (Dzielnica Białołęka, przy ulicy Picassa, 3,70...\n",
       "34    (Dzielnica Śródmieście,  przy ulicy Wybrzeże G...\n",
       "35    (Dzielnica Mokotów, w rejonie ulicy Bluszczańs...\n",
       "36    (Dzielnica Praga Północ, pomiędzy: Al. Solidar...\n",
       "37    (Dzielnica Ursynów w kwadracie ulic Rosoła, Pr...\n",
       "38    (Dzielnica Ursynów, w rejonie ulic: Koński Jar...\n",
       "39    ( Dzielnica Bielany, w obrębie ulic: Gwiaździs...\n",
       "40    (Dzielnica Żoliborz, w obrębie ulic: Braci Zał...\n",
       "41    (Dzielnica Mokotów, pomiędzy ul. Chełmską a Al...\n",
       "42    (Dzielnica Praga Południe, w obrębie ulic: Al....\n",
       "43    (Dzielnica Ochota, park ograniczają ulice: Waw...\n",
       "44    (Dzielnica Wola, w obrębie ulic Wolskiej, Elek...\n",
       "45          (ul. Cietrzewia, Dzielnica Włochy, 8,16 ha)\n",
       "46                                         (None, None)\n",
       "47    (Dzielnica Białołęka, rejon ul. Strumykowej, p...\n",
       "48     (Dzielnica Włochy, przy ul. Koziorożca, 4,71 ha)\n",
       "49    (Dzielnica Ochota, ograniczony ul. Włodarzewsk...\n",
       "50    (Dzielnica Praga-Południe,  w rejonie ulic: Ga...\n",
       "51                                         (None, None)\n",
       "52    (Dzielnica Mokotów, ul. Powsińska i ul. Moszcz...\n",
       "53                                         (None, None)\n",
       "54    (Dzielnica Wola, w rejonie ulicy Wolskiej, Ele...\n",
       "55    (Dzielnica Śródmieście, o obrębie ulic Aleje U...\n",
       "56    (Dzielnica Praga Południe, w obrębie ulic Znic...\n",
       "57    (Dzielnica Śródmieście, w obrębie ulicy Wybrze...\n",
       "58    (Dzielnica Targówek, pomiędzy ulicami Kołową, ...\n",
       "59    (Dzielnica Śródmieście, pomiędzy Świętokrzyską...\n",
       "60    (Dzielnica Żoliborz, przy pl. Wilsona, pomiędz...\n",
       "61    (Dzielnica Bemowo, rejon ograniczony jest ulic...\n",
       "Name: Link, Length: 62, dtype: object"
      ]
     },
     "execution_count": 153,
     "metadata": {},
     "output_type": "execute_result"
    }
   ],
   "source": [
    "df.Link.apply(lambda link: get_park_info(link, results))"
   ]
  },
  {
   "cell_type": "code",
   "execution_count": 157,
   "metadata": {},
   "outputs": [],
   "source": [
    "df = pd.concat([df, pd.DataFrame(results, columns = [\"Dzielnica\", \"Powierzchnia\"])], axis = 1)"
   ]
  },
  {
   "cell_type": "code",
   "execution_count": 161,
   "metadata": {},
   "outputs": [],
   "source": [
    "df[\"Dzielnica\"] = df.Dzielnica.apply(lambda x: None if str(x) == 'None' else x.split(\" \")[1].replace(\",\",\"\"))"
   ]
  },
  {
   "cell_type": "code",
   "execution_count": 163,
   "metadata": {},
   "outputs": [],
   "source": [
    "df.Powierzchnia = df.Powierzchnia.apply(lambda x: None if str(x) == 'None' else x.replace(\" ha\", \"\").replace(\",\", \".\"))"
   ]
  },
  {
   "cell_type": "code",
   "execution_count": 165,
   "metadata": {},
   "outputs": [],
   "source": [
    "df.to_excel(\"parki_final.xlsx\")"
   ]
  },
  {
   "cell_type": "code",
   "execution_count": 194,
   "metadata": {},
   "outputs": [],
   "source": [
    "df = pd.read_excel('parki_final.xlsx')"
   ]
  },
  {
   "cell_type": "code",
   "execution_count": 195,
   "metadata": {},
   "outputs": [],
   "source": [
    "df[\"Powierzchnia (ha)\"] = df[\"Powierzchnia (ha)\"].apply(lambda x: float(str(x).replace(\",\", \".\")))"
   ]
  },
  {
   "cell_type": "code",
   "execution_count": 196,
   "metadata": {},
   "outputs": [],
   "source": [
    "df[\"Powierzchnia_parkow_km2\"] = df[\"Powierzchnia (ha)\"].apply(lambda x: x * 0.01)"
   ]
  },
  {
   "cell_type": "code",
   "execution_count": 198,
   "metadata": {},
   "outputs": [],
   "source": [
    "df_grouped = pd.DataFrame(df.groupby(\"Dzielnica\").Powierzchnia_parkow_km2.sum())"
   ]
  },
  {
   "cell_type": "code",
   "execution_count": 199,
   "metadata": {},
   "outputs": [],
   "source": [
    "dane_dzielnica = pd.read_excel(\"dzielnice_dane_ogolne.xlsx\")"
   ]
  },
  {
   "cell_type": "code",
   "execution_count": 200,
   "metadata": {},
   "outputs": [],
   "source": [
    "df_grouped[\"Dzielnica\"] = df_grouped.index"
   ]
  },
  {
   "cell_type": "code",
   "execution_count": 201,
   "metadata": {},
   "outputs": [],
   "source": [
    "df_grouped.reset_index(inplace = True, drop = True)"
   ]
  },
  {
   "cell_type": "code",
   "execution_count": 203,
   "metadata": {},
   "outputs": [],
   "source": [
    "dane_dzielnica = dane_dzielnica.merge(df_grouped, on = \"Dzielnica\")"
   ]
  },
  {
   "cell_type": "code",
   "execution_count": 205,
   "metadata": {},
   "outputs": [],
   "source": [
    "dane_dzielnica[\"Procent_terenow_zielonych\"] = dane_dzielnica[\"Powierzchnia_parkow_km2\"]/dane_dzielnica[\"Powierzchnia_km2\"]"
   ]
  },
  {
   "cell_type": "code",
   "execution_count": 207,
   "metadata": {},
   "outputs": [],
   "source": [
    "dane_dzielnica.to_excel(\"dzielnice_dane_ogolne_final.xlsx\", index = False)"
   ]
  },
  {
   "cell_type": "markdown",
   "metadata": {},
   "source": [
    "### New dane ogólne"
   ]
  },
  {
   "cell_type": "code",
   "execution_count": 4,
   "metadata": {},
   "outputs": [],
   "source": [
    "parki = pd.read_excel(\"parki_final.xlsx\")"
   ]
  },
  {
   "cell_type": "code",
   "execution_count": 9,
   "metadata": {},
   "outputs": [],
   "source": [
    "parki[\"Powierzchnia_parkow_km2\"] = parki[\"Powierzchnia (ha)\"].apply(lambda x: float(str(x).replace(\",\",\".\")) * 0.01)"
   ]
  },
  {
   "cell_type": "code",
   "execution_count": 18,
   "metadata": {},
   "outputs": [],
   "source": [
    "parki_grouped = pd.DataFrame(parki.groupby(\"Dzielnica\").Powierzchnia_parkow_km2.sum())\n",
    "parki_grouped[\"Dzielnica\"] = parki_grouped.index\n",
    "parki_grouped.reset_index(inplace = True, drop = True)"
   ]
  },
  {
   "cell_type": "code",
   "execution_count": 20,
   "metadata": {},
   "outputs": [],
   "source": [
    "dane_dzielnica = pd.read_excel(\"dzielnice_dane_ogolne.xlsx\")"
   ]
  },
  {
   "cell_type": "code",
   "execution_count": 22,
   "metadata": {},
   "outputs": [
    {
     "data": {
      "text/html": [
       "<div>\n",
       "<style scoped>\n",
       "    .dataframe tbody tr th:only-of-type {\n",
       "        vertical-align: middle;\n",
       "    }\n",
       "\n",
       "    .dataframe tbody tr th {\n",
       "        vertical-align: top;\n",
       "    }\n",
       "\n",
       "    .dataframe thead th {\n",
       "        text-align: right;\n",
       "    }\n",
       "</style>\n",
       "<table border=\"1\" class=\"dataframe\">\n",
       "  <thead>\n",
       "    <tr style=\"text-align: right;\">\n",
       "      <th></th>\n",
       "      <th>Dzielnica</th>\n",
       "      <th>Liczba_mieszkancow</th>\n",
       "      <th>Gestosc_zaludnienia</th>\n",
       "      <th>Powierzchnia_km2</th>\n",
       "      <th>Powierzchnia_parkow_km2</th>\n",
       "    </tr>\n",
       "  </thead>\n",
       "  <tbody>\n",
       "    <tr>\n",
       "      <th>0</th>\n",
       "      <td>Mokotów</td>\n",
       "      <td>217683</td>\n",
       "      <td>6146</td>\n",
       "      <td>35.42</td>\n",
       "      <td>1.6016</td>\n",
       "    </tr>\n",
       "    <tr>\n",
       "      <th>1</th>\n",
       "      <td>Praga-Południe</td>\n",
       "      <td>179836</td>\n",
       "      <td>8036</td>\n",
       "      <td>22.38</td>\n",
       "      <td>0.0552</td>\n",
       "    </tr>\n",
       "    <tr>\n",
       "      <th>2</th>\n",
       "      <td>Ursynów</td>\n",
       "      <td>150668</td>\n",
       "      <td>3441</td>\n",
       "      <td>43.79</td>\n",
       "      <td>0.2677</td>\n",
       "    </tr>\n",
       "    <tr>\n",
       "      <th>3</th>\n",
       "      <td>Wola</td>\n",
       "      <td>140958</td>\n",
       "      <td>7319</td>\n",
       "      <td>19.26</td>\n",
       "      <td>0.4869</td>\n",
       "    </tr>\n",
       "    <tr>\n",
       "      <th>4</th>\n",
       "      <td>Bielany</td>\n",
       "      <td>131910</td>\n",
       "      <td>4079</td>\n",
       "      <td>32.34</td>\n",
       "      <td>0.3254</td>\n",
       "    </tr>\n",
       "    <tr>\n",
       "      <th>5</th>\n",
       "      <td>Targówek</td>\n",
       "      <td>124279</td>\n",
       "      <td>5131</td>\n",
       "      <td>24.22</td>\n",
       "      <td>0.3130</td>\n",
       "    </tr>\n",
       "    <tr>\n",
       "      <th>6</th>\n",
       "      <td>Bemowo</td>\n",
       "      <td>123932</td>\n",
       "      <td>4967</td>\n",
       "      <td>24.95</td>\n",
       "      <td>0.4267</td>\n",
       "    </tr>\n",
       "    <tr>\n",
       "      <th>7</th>\n",
       "      <td>Śródmieście</td>\n",
       "      <td>115395</td>\n",
       "      <td>7411</td>\n",
       "      <td>15.57</td>\n",
       "      <td>1.2069</td>\n",
       "    </tr>\n",
       "    <tr>\n",
       "      <th>8</th>\n",
       "      <td>Białołęka</td>\n",
       "      <td>124125</td>\n",
       "      <td>1699</td>\n",
       "      <td>73.04</td>\n",
       "      <td>0.0910</td>\n",
       "    </tr>\n",
       "    <tr>\n",
       "      <th>9</th>\n",
       "      <td>Ochota</td>\n",
       "      <td>82774</td>\n",
       "      <td>8516</td>\n",
       "      <td>9.72</td>\n",
       "      <td>0.4780</td>\n",
       "    </tr>\n",
       "    <tr>\n",
       "      <th>10</th>\n",
       "      <td>Wawer</td>\n",
       "      <td>77205</td>\n",
       "      <td>969</td>\n",
       "      <td>79.70</td>\n",
       "      <td>NaN</td>\n",
       "    </tr>\n",
       "    <tr>\n",
       "      <th>11</th>\n",
       "      <td>Praga-Północ</td>\n",
       "      <td>64113</td>\n",
       "      <td>5614</td>\n",
       "      <td>11.42</td>\n",
       "      <td>NaN</td>\n",
       "    </tr>\n",
       "    <tr>\n",
       "      <th>12</th>\n",
       "      <td>Ursus</td>\n",
       "      <td>60112</td>\n",
       "      <td>6422</td>\n",
       "      <td>9.36</td>\n",
       "      <td>0.0579</td>\n",
       "    </tr>\n",
       "    <tr>\n",
       "      <th>13</th>\n",
       "      <td>Żoliborz</td>\n",
       "      <td>52293</td>\n",
       "      <td>6174</td>\n",
       "      <td>8.47</td>\n",
       "      <td>0.3274</td>\n",
       "    </tr>\n",
       "    <tr>\n",
       "      <th>14</th>\n",
       "      <td>Włochy</td>\n",
       "      <td>42862</td>\n",
       "      <td>1497</td>\n",
       "      <td>28.63</td>\n",
       "      <td>0.1793</td>\n",
       "    </tr>\n",
       "    <tr>\n",
       "      <th>15</th>\n",
       "      <td>Wilanów</td>\n",
       "      <td>40060</td>\n",
       "      <td>1091</td>\n",
       "      <td>36.73</td>\n",
       "      <td>NaN</td>\n",
       "    </tr>\n",
       "    <tr>\n",
       "      <th>16</th>\n",
       "      <td>Wesoła</td>\n",
       "      <td>25439</td>\n",
       "      <td>1109</td>\n",
       "      <td>22.94</td>\n",
       "      <td>NaN</td>\n",
       "    </tr>\n",
       "    <tr>\n",
       "      <th>17</th>\n",
       "      <td>Rembertów</td>\n",
       "      <td>24328</td>\n",
       "      <td>1261</td>\n",
       "      <td>19.30</td>\n",
       "      <td>NaN</td>\n",
       "    </tr>\n",
       "  </tbody>\n",
       "</table>\n",
       "</div>"
      ],
      "text/plain": [
       "         Dzielnica  Liczba_mieszkancow  Gestosc_zaludnienia  Powierzchnia_km2  \\\n",
       "0          Mokotów              217683                 6146             35.42   \n",
       "1   Praga-Południe              179836                 8036             22.38   \n",
       "2          Ursynów              150668                 3441             43.79   \n",
       "3             Wola              140958                 7319             19.26   \n",
       "4          Bielany              131910                 4079             32.34   \n",
       "5         Targówek              124279                 5131             24.22   \n",
       "6           Bemowo              123932                 4967             24.95   \n",
       "7      Śródmieście              115395                 7411             15.57   \n",
       "8        Białołęka              124125                 1699             73.04   \n",
       "9           Ochota               82774                 8516              9.72   \n",
       "10           Wawer               77205                  969             79.70   \n",
       "11    Praga-Północ               64113                 5614             11.42   \n",
       "12           Ursus               60112                 6422              9.36   \n",
       "13        Żoliborz               52293                 6174              8.47   \n",
       "14          Włochy               42862                 1497             28.63   \n",
       "15         Wilanów               40060                 1091             36.73   \n",
       "16          Wesoła               25439                 1109             22.94   \n",
       "17       Rembertów               24328                 1261             19.30   \n",
       "\n",
       "    Powierzchnia_parkow_km2  \n",
       "0                    1.6016  \n",
       "1                    0.0552  \n",
       "2                    0.2677  \n",
       "3                    0.4869  \n",
       "4                    0.3254  \n",
       "5                    0.3130  \n",
       "6                    0.4267  \n",
       "7                    1.2069  \n",
       "8                    0.0910  \n",
       "9                    0.4780  \n",
       "10                      NaN  \n",
       "11                      NaN  \n",
       "12                   0.0579  \n",
       "13                   0.3274  \n",
       "14                   0.1793  \n",
       "15                      NaN  \n",
       "16                      NaN  \n",
       "17                      NaN  "
      ]
     },
     "execution_count": 22,
     "metadata": {},
     "output_type": "execute_result"
    }
   ],
   "source": [
    "dane_dzielnica.merge(parki_grouped.loc[:,[\"Dzielnica\", \"Powierzchnia_parkow_km2\"]], on = \"Dzielnica\", how = 'left')"
   ]
  },
  {
   "cell_type": "code",
   "execution_count": null,
   "metadata": {},
   "outputs": [],
   "source": []
  }
 ],
 "metadata": {
  "kernelspec": {
   "display_name": "Python 3",
   "language": "python",
   "name": "python3"
  },
  "language_info": {
   "codemirror_mode": {
    "name": "ipython",
    "version": 3
   },
   "file_extension": ".py",
   "mimetype": "text/x-python",
   "name": "python",
   "nbconvert_exporter": "python",
   "pygments_lexer": "ipython3",
   "version": "3.7.3"
  }
 },
 "nbformat": 4,
 "nbformat_minor": 2
}
